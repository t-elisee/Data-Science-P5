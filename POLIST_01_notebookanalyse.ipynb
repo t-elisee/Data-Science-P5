{
 "cells": [
  {
   "cell_type": "markdown",
   "metadata": {},
   "source": [
    "## Projet 5 : Segmentez des clients d'un site e-commerce"
   ]
  },
  {
   "cell_type": "markdown",
   "metadata": {},
   "source": [
    "#### Notebook analyse"
   ]
  },
  {
   "cell_type": "code",
   "execution_count": 21,
   "metadata": {},
   "outputs": [],
   "source": [
    "import pandas as pd\n",
    "import os \n",
    "import matplotlib.pyplot as plt\n",
    "import seaborn as sns\n",
    "import numpy as np\n",
    "from scipy import stats"
   ]
  },
  {
   "cell_type": "code",
   "execution_count": 3,
   "metadata": {},
   "outputs": [],
   "source": [
    "customers = pd.read_csv('C:/Users/Elisée/Desktop/Projet (5)/archive/olist_customers_dataset.csv')\n",
    "geolocalisation = pd.read_csv('C:/Users/Elisée/Desktop/Projet (5)/archive/olist_geolocation_dataset.csv')\n",
    "order_items = pd.read_csv('C:/Users/Elisée/Desktop/Projet (5)/archive/olist_order_items_dataset.csv')\n",
    "order_payments = pd.read_csv('C:/Users/Elisée/Desktop/Projet (5)/archive/olist_order_payments_dataset.csv')\n",
    "order_reviews = pd.read_csv('C:/Users/Elisée/Desktop/Projet (5)/archive/olist_order_reviews_dataset.csv')\n",
    "orders = pd.read_csv('C:/Users/Elisée/Desktop/Projet (5)/archive/olist_orders_dataset.csv')\n",
    "products = pd.read_csv('C:/Users/Elisée/Desktop/Projet (5)/archive/olist_products_dataset.csv')\n",
    "sellers = pd.read_csv('C:/Users/Elisée/Desktop/Projet (5)/archive/olist_sellers_dataset.csv')\n",
    "translation = pd.read_csv('C:/Users/Elisée/Desktop/Projet (5)/archive/product_category_name_translation.csv')"
   ]
  },
  {
   "cell_type": "code",
   "execution_count": 4,
   "metadata": {},
   "outputs": [
    {
     "data": {
      "text/plain": [
       "(99441,)"
      ]
     },
     "execution_count": 4,
     "metadata": {},
     "output_type": "execute_result"
    }
   ],
   "source": [
    "customers['customer_id'].shape"
   ]
  },
  {
   "cell_type": "code",
   "execution_count": 5,
   "metadata": {},
   "outputs": [
    {
     "data": {
      "text/plain": [
       "96096"
      ]
     },
     "execution_count": 5,
     "metadata": {},
     "output_type": "execute_result"
    }
   ],
   "source": [
    "customers['customer_unique_id'].nunique()"
   ]
  },
  {
   "cell_type": "code",
   "execution_count": 6,
   "metadata": {},
   "outputs": [
    {
     "data": {
      "text/plain": [
       "(99441, 8)"
      ]
     },
     "execution_count": 6,
     "metadata": {},
     "output_type": "execute_result"
    }
   ],
   "source": [
    "orders.shape"
   ]
  },
  {
   "cell_type": "code",
   "execution_count": 7,
   "metadata": {},
   "outputs": [
    {
     "data": {
      "text/html": [
       "<div>\n",
       "<style scoped>\n",
       "    .dataframe tbody tr th:only-of-type {\n",
       "        vertical-align: middle;\n",
       "    }\n",
       "\n",
       "    .dataframe tbody tr th {\n",
       "        vertical-align: top;\n",
       "    }\n",
       "\n",
       "    .dataframe thead th {\n",
       "        text-align: right;\n",
       "    }\n",
       "</style>\n",
       "<table border=\"1\" class=\"dataframe\">\n",
       "  <thead>\n",
       "    <tr style=\"text-align: right;\">\n",
       "      <th></th>\n",
       "      <th>order_id</th>\n",
       "      <th>order_item_id</th>\n",
       "      <th>product_id</th>\n",
       "      <th>seller_id</th>\n",
       "      <th>shipping_limit_date</th>\n",
       "      <th>price</th>\n",
       "      <th>freight_value</th>\n",
       "    </tr>\n",
       "  </thead>\n",
       "  <tbody>\n",
       "    <tr>\n",
       "      <th>0</th>\n",
       "      <td>00010242fe8c5a6d1ba2dd792cb16214</td>\n",
       "      <td>1</td>\n",
       "      <td>4244733e06e7ecb4970a6e2683c13e61</td>\n",
       "      <td>48436dade18ac8b2bce089ec2a041202</td>\n",
       "      <td>2017-09-19 09:45:35</td>\n",
       "      <td>58.9</td>\n",
       "      <td>13.29</td>\n",
       "    </tr>\n",
       "  </tbody>\n",
       "</table>\n",
       "</div>"
      ],
      "text/plain": [
       "                           order_id  order_item_id  \\\n",
       "0  00010242fe8c5a6d1ba2dd792cb16214              1   \n",
       "\n",
       "                         product_id                         seller_id  \\\n",
       "0  4244733e06e7ecb4970a6e2683c13e61  48436dade18ac8b2bce089ec2a041202   \n",
       "\n",
       "   shipping_limit_date  price  freight_value  \n",
       "0  2017-09-19 09:45:35   58.9          13.29  "
      ]
     },
     "execution_count": 7,
     "metadata": {},
     "output_type": "execute_result"
    }
   ],
   "source": [
    "order_items.head(1)"
   ]
  },
  {
   "cell_type": "code",
   "execution_count": 8,
   "metadata": {},
   "outputs": [
    {
     "data": {
      "text/html": [
       "<div>\n",
       "<style scoped>\n",
       "    .dataframe tbody tr th:only-of-type {\n",
       "        vertical-align: middle;\n",
       "    }\n",
       "\n",
       "    .dataframe tbody tr th {\n",
       "        vertical-align: top;\n",
       "    }\n",
       "\n",
       "    .dataframe thead th {\n",
       "        text-align: right;\n",
       "    }\n",
       "</style>\n",
       "<table border=\"1\" class=\"dataframe\">\n",
       "  <thead>\n",
       "    <tr style=\"text-align: right;\">\n",
       "      <th></th>\n",
       "      <th>customer_id</th>\n",
       "      <th>customer_unique_id</th>\n",
       "      <th>customer_zip_code_prefix</th>\n",
       "      <th>customer_city</th>\n",
       "      <th>customer_state</th>\n",
       "    </tr>\n",
       "  </thead>\n",
       "  <tbody>\n",
       "    <tr>\n",
       "      <th>0</th>\n",
       "      <td>06b8999e2fba1a1fbc88172c00ba8bc7</td>\n",
       "      <td>861eff4711a542e4b93843c6dd7febb0</td>\n",
       "      <td>14409</td>\n",
       "      <td>franca</td>\n",
       "      <td>SP</td>\n",
       "    </tr>\n",
       "  </tbody>\n",
       "</table>\n",
       "</div>"
      ],
      "text/plain": [
       "                        customer_id                customer_unique_id  \\\n",
       "0  06b8999e2fba1a1fbc88172c00ba8bc7  861eff4711a542e4b93843c6dd7febb0   \n",
       "\n",
       "   customer_zip_code_prefix customer_city customer_state  \n",
       "0                     14409        franca             SP  "
      ]
     },
     "execution_count": 8,
     "metadata": {},
     "output_type": "execute_result"
    }
   ],
   "source": [
    "customers.head(1)"
   ]
  },
  {
   "cell_type": "code",
   "execution_count": 9,
   "metadata": {},
   "outputs": [
    {
     "data": {
      "text/html": [
       "<div>\n",
       "<style scoped>\n",
       "    .dataframe tbody tr th:only-of-type {\n",
       "        vertical-align: middle;\n",
       "    }\n",
       "\n",
       "    .dataframe tbody tr th {\n",
       "        vertical-align: top;\n",
       "    }\n",
       "\n",
       "    .dataframe thead th {\n",
       "        text-align: right;\n",
       "    }\n",
       "</style>\n",
       "<table border=\"1\" class=\"dataframe\">\n",
       "  <thead>\n",
       "    <tr style=\"text-align: right;\">\n",
       "      <th></th>\n",
       "      <th>order_id</th>\n",
       "      <th>payment_sequential</th>\n",
       "      <th>payment_type</th>\n",
       "      <th>payment_installments</th>\n",
       "      <th>payment_value</th>\n",
       "    </tr>\n",
       "  </thead>\n",
       "  <tbody>\n",
       "    <tr>\n",
       "      <th>0</th>\n",
       "      <td>b81ef226f3fe1789b1e8b2acac839d17</td>\n",
       "      <td>1</td>\n",
       "      <td>credit_card</td>\n",
       "      <td>8</td>\n",
       "      <td>99.33</td>\n",
       "    </tr>\n",
       "  </tbody>\n",
       "</table>\n",
       "</div>"
      ],
      "text/plain": [
       "                           order_id  payment_sequential payment_type  \\\n",
       "0  b81ef226f3fe1789b1e8b2acac839d17                   1  credit_card   \n",
       "\n",
       "   payment_installments  payment_value  \n",
       "0                     8          99.33  "
      ]
     },
     "execution_count": 9,
     "metadata": {},
     "output_type": "execute_result"
    }
   ],
   "source": [
    "order_payments.head(1)"
   ]
  },
  {
   "cell_type": "code",
   "execution_count": 10,
   "metadata": {},
   "outputs": [
    {
     "data": {
      "text/html": [
       "<div>\n",
       "<style scoped>\n",
       "    .dataframe tbody tr th:only-of-type {\n",
       "        vertical-align: middle;\n",
       "    }\n",
       "\n",
       "    .dataframe tbody tr th {\n",
       "        vertical-align: top;\n",
       "    }\n",
       "\n",
       "    .dataframe thead th {\n",
       "        text-align: right;\n",
       "    }\n",
       "</style>\n",
       "<table border=\"1\" class=\"dataframe\">\n",
       "  <thead>\n",
       "    <tr style=\"text-align: right;\">\n",
       "      <th></th>\n",
       "      <th>review_id</th>\n",
       "      <th>order_id</th>\n",
       "      <th>review_score</th>\n",
       "      <th>review_comment_title</th>\n",
       "      <th>review_comment_message</th>\n",
       "      <th>review_creation_date</th>\n",
       "      <th>review_answer_timestamp</th>\n",
       "    </tr>\n",
       "  </thead>\n",
       "  <tbody>\n",
       "    <tr>\n",
       "      <th>0</th>\n",
       "      <td>7bc2406110b926393aa56f80a40eba40</td>\n",
       "      <td>73fc7af87114b39712e6da79b0a377eb</td>\n",
       "      <td>4</td>\n",
       "      <td>NaN</td>\n",
       "      <td>NaN</td>\n",
       "      <td>2018-01-18 00:00:00</td>\n",
       "      <td>2018-01-18 21:46:59</td>\n",
       "    </tr>\n",
       "  </tbody>\n",
       "</table>\n",
       "</div>"
      ],
      "text/plain": [
       "                          review_id                          order_id  \\\n",
       "0  7bc2406110b926393aa56f80a40eba40  73fc7af87114b39712e6da79b0a377eb   \n",
       "\n",
       "   review_score review_comment_title review_comment_message  \\\n",
       "0             4                  NaN                    NaN   \n",
       "\n",
       "  review_creation_date review_answer_timestamp  \n",
       "0  2018-01-18 00:00:00     2018-01-18 21:46:59  "
      ]
     },
     "execution_count": 10,
     "metadata": {},
     "output_type": "execute_result"
    }
   ],
   "source": [
    "order_reviews.head(1)"
   ]
  },
  {
   "cell_type": "code",
   "execution_count": 11,
   "metadata": {},
   "outputs": [
    {
     "data": {
      "text/html": [
       "<div>\n",
       "<style scoped>\n",
       "    .dataframe tbody tr th:only-of-type {\n",
       "        vertical-align: middle;\n",
       "    }\n",
       "\n",
       "    .dataframe tbody tr th {\n",
       "        vertical-align: top;\n",
       "    }\n",
       "\n",
       "    .dataframe thead th {\n",
       "        text-align: right;\n",
       "    }\n",
       "</style>\n",
       "<table border=\"1\" class=\"dataframe\">\n",
       "  <thead>\n",
       "    <tr style=\"text-align: right;\">\n",
       "      <th></th>\n",
       "      <th>order_id</th>\n",
       "      <th>customer_id</th>\n",
       "      <th>order_status</th>\n",
       "      <th>order_purchase_timestamp</th>\n",
       "      <th>order_approved_at</th>\n",
       "      <th>order_delivered_carrier_date</th>\n",
       "      <th>order_delivered_customer_date</th>\n",
       "      <th>order_estimated_delivery_date</th>\n",
       "    </tr>\n",
       "  </thead>\n",
       "  <tbody>\n",
       "    <tr>\n",
       "      <th>0</th>\n",
       "      <td>e481f51cbdc54678b7cc49136f2d6af7</td>\n",
       "      <td>9ef432eb6251297304e76186b10a928d</td>\n",
       "      <td>delivered</td>\n",
       "      <td>2017-10-02 10:56:33</td>\n",
       "      <td>2017-10-02 11:07:15</td>\n",
       "      <td>2017-10-04 19:55:00</td>\n",
       "      <td>2017-10-10 21:25:13</td>\n",
       "      <td>2017-10-18 00:00:00</td>\n",
       "    </tr>\n",
       "  </tbody>\n",
       "</table>\n",
       "</div>"
      ],
      "text/plain": [
       "                           order_id                       customer_id  \\\n",
       "0  e481f51cbdc54678b7cc49136f2d6af7  9ef432eb6251297304e76186b10a928d   \n",
       "\n",
       "  order_status order_purchase_timestamp    order_approved_at  \\\n",
       "0    delivered      2017-10-02 10:56:33  2017-10-02 11:07:15   \n",
       "\n",
       "  order_delivered_carrier_date order_delivered_customer_date  \\\n",
       "0          2017-10-04 19:55:00           2017-10-10 21:25:13   \n",
       "\n",
       "  order_estimated_delivery_date  \n",
       "0           2017-10-18 00:00:00  "
      ]
     },
     "execution_count": 11,
     "metadata": {},
     "output_type": "execute_result"
    }
   ],
   "source": [
    "orders.head(1)"
   ]
  },
  {
   "cell_type": "code",
   "execution_count": 12,
   "metadata": {},
   "outputs": [
    {
     "data": {
      "text/html": [
       "<div>\n",
       "<style scoped>\n",
       "    .dataframe tbody tr th:only-of-type {\n",
       "        vertical-align: middle;\n",
       "    }\n",
       "\n",
       "    .dataframe tbody tr th {\n",
       "        vertical-align: top;\n",
       "    }\n",
       "\n",
       "    .dataframe thead th {\n",
       "        text-align: right;\n",
       "    }\n",
       "</style>\n",
       "<table border=\"1\" class=\"dataframe\">\n",
       "  <thead>\n",
       "    <tr style=\"text-align: right;\">\n",
       "      <th></th>\n",
       "      <th>product_id</th>\n",
       "      <th>product_category_name</th>\n",
       "      <th>product_name_lenght</th>\n",
       "      <th>product_description_lenght</th>\n",
       "      <th>product_photos_qty</th>\n",
       "      <th>product_weight_g</th>\n",
       "      <th>product_length_cm</th>\n",
       "      <th>product_height_cm</th>\n",
       "      <th>product_width_cm</th>\n",
       "    </tr>\n",
       "  </thead>\n",
       "  <tbody>\n",
       "    <tr>\n",
       "      <th>0</th>\n",
       "      <td>1e9e8ef04dbcff4541ed26657ea517e5</td>\n",
       "      <td>perfumaria</td>\n",
       "      <td>40.0</td>\n",
       "      <td>287.0</td>\n",
       "      <td>1.0</td>\n",
       "      <td>225.0</td>\n",
       "      <td>16.0</td>\n",
       "      <td>10.0</td>\n",
       "      <td>14.0</td>\n",
       "    </tr>\n",
       "  </tbody>\n",
       "</table>\n",
       "</div>"
      ],
      "text/plain": [
       "                         product_id product_category_name  \\\n",
       "0  1e9e8ef04dbcff4541ed26657ea517e5            perfumaria   \n",
       "\n",
       "   product_name_lenght  product_description_lenght  product_photos_qty  \\\n",
       "0                 40.0                       287.0                 1.0   \n",
       "\n",
       "   product_weight_g  product_length_cm  product_height_cm  product_width_cm  \n",
       "0             225.0               16.0               10.0              14.0  "
      ]
     },
     "execution_count": 12,
     "metadata": {},
     "output_type": "execute_result"
    }
   ],
   "source": [
    "products.head(1)"
   ]
  },
  {
   "cell_type": "code",
   "execution_count": 13,
   "metadata": {},
   "outputs": [
    {
     "data": {
      "text/html": [
       "<div>\n",
       "<style scoped>\n",
       "    .dataframe tbody tr th:only-of-type {\n",
       "        vertical-align: middle;\n",
       "    }\n",
       "\n",
       "    .dataframe tbody tr th {\n",
       "        vertical-align: top;\n",
       "    }\n",
       "\n",
       "    .dataframe thead th {\n",
       "        text-align: right;\n",
       "    }\n",
       "</style>\n",
       "<table border=\"1\" class=\"dataframe\">\n",
       "  <thead>\n",
       "    <tr style=\"text-align: right;\">\n",
       "      <th></th>\n",
       "      <th>seller_id</th>\n",
       "      <th>seller_zip_code_prefix</th>\n",
       "      <th>seller_city</th>\n",
       "      <th>seller_state</th>\n",
       "    </tr>\n",
       "  </thead>\n",
       "  <tbody>\n",
       "    <tr>\n",
       "      <th>0</th>\n",
       "      <td>3442f8959a84dea7ee197c632cb2df15</td>\n",
       "      <td>13023</td>\n",
       "      <td>campinas</td>\n",
       "      <td>SP</td>\n",
       "    </tr>\n",
       "  </tbody>\n",
       "</table>\n",
       "</div>"
      ],
      "text/plain": [
       "                          seller_id  seller_zip_code_prefix seller_city  \\\n",
       "0  3442f8959a84dea7ee197c632cb2df15                   13023    campinas   \n",
       "\n",
       "  seller_state  \n",
       "0           SP  "
      ]
     },
     "execution_count": 13,
     "metadata": {},
     "output_type": "execute_result"
    }
   ],
   "source": [
    "sellers.head(1)"
   ]
  },
  {
   "cell_type": "code",
   "execution_count": 14,
   "metadata": {},
   "outputs": [
    {
     "data": {
      "text/html": [
       "<div>\n",
       "<style scoped>\n",
       "    .dataframe tbody tr th:only-of-type {\n",
       "        vertical-align: middle;\n",
       "    }\n",
       "\n",
       "    .dataframe tbody tr th {\n",
       "        vertical-align: top;\n",
       "    }\n",
       "\n",
       "    .dataframe thead th {\n",
       "        text-align: right;\n",
       "    }\n",
       "</style>\n",
       "<table border=\"1\" class=\"dataframe\">\n",
       "  <thead>\n",
       "    <tr style=\"text-align: right;\">\n",
       "      <th></th>\n",
       "      <th>product_category_name</th>\n",
       "      <th>product_category_name_english</th>\n",
       "    </tr>\n",
       "  </thead>\n",
       "  <tbody>\n",
       "    <tr>\n",
       "      <th>0</th>\n",
       "      <td>beleza_saude</td>\n",
       "      <td>health_beauty</td>\n",
       "    </tr>\n",
       "  </tbody>\n",
       "</table>\n",
       "</div>"
      ],
      "text/plain": [
       "  product_category_name product_category_name_english\n",
       "0          beleza_saude                 health_beauty"
      ]
     },
     "execution_count": 14,
     "metadata": {},
     "output_type": "execute_result"
    }
   ],
   "source": [
    "translation.head(1)"
   ]
  },
  {
   "cell_type": "code",
   "execution_count": 15,
   "metadata": {},
   "outputs": [
    {
     "data": {
      "text/html": [
       "<div>\n",
       "<style scoped>\n",
       "    .dataframe tbody tr th:only-of-type {\n",
       "        vertical-align: middle;\n",
       "    }\n",
       "\n",
       "    .dataframe tbody tr th {\n",
       "        vertical-align: top;\n",
       "    }\n",
       "\n",
       "    .dataframe thead th {\n",
       "        text-align: right;\n",
       "    }\n",
       "</style>\n",
       "<table border=\"1\" class=\"dataframe\">\n",
       "  <thead>\n",
       "    <tr style=\"text-align: right;\">\n",
       "      <th></th>\n",
       "      <th>customer_id</th>\n",
       "      <th>customer_unique_id</th>\n",
       "      <th>customer_zip_code_prefix</th>\n",
       "      <th>customer_city</th>\n",
       "      <th>customer_state</th>\n",
       "    </tr>\n",
       "  </thead>\n",
       "  <tbody>\n",
       "    <tr>\n",
       "      <th>0</th>\n",
       "      <td>06b8999e2fba1a1fbc88172c00ba8bc7</td>\n",
       "      <td>861eff4711a542e4b93843c6dd7febb0</td>\n",
       "      <td>14409</td>\n",
       "      <td>franca</td>\n",
       "      <td>SP</td>\n",
       "    </tr>\n",
       "  </tbody>\n",
       "</table>\n",
       "</div>"
      ],
      "text/plain": [
       "                        customer_id                customer_unique_id  \\\n",
       "0  06b8999e2fba1a1fbc88172c00ba8bc7  861eff4711a542e4b93843c6dd7febb0   \n",
       "\n",
       "   customer_zip_code_prefix customer_city customer_state  \n",
       "0                     14409        franca             SP  "
      ]
     },
     "execution_count": 15,
     "metadata": {},
     "output_type": "execute_result"
    }
   ],
   "source": [
    "customers.head(1)"
   ]
  },
  {
   "cell_type": "code",
   "execution_count": 23,
   "metadata": {},
   "outputs": [
    {
     "data": {
      "text/html": [
       "<div>\n",
       "<style scoped>\n",
       "    .dataframe tbody tr th:only-of-type {\n",
       "        vertical-align: middle;\n",
       "    }\n",
       "\n",
       "    .dataframe tbody tr th {\n",
       "        vertical-align: top;\n",
       "    }\n",
       "\n",
       "    .dataframe thead th {\n",
       "        text-align: right;\n",
       "    }\n",
       "</style>\n",
       "<table border=\"1\" class=\"dataframe\">\n",
       "  <thead>\n",
       "    <tr style=\"text-align: right;\">\n",
       "      <th></th>\n",
       "      <th>product_id</th>\n",
       "      <th>product_category_name</th>\n",
       "      <th>product_name_lenght</th>\n",
       "      <th>product_description_lenght</th>\n",
       "      <th>product_photos_qty</th>\n",
       "      <th>product_weight_g</th>\n",
       "      <th>product_length_cm</th>\n",
       "      <th>product_height_cm</th>\n",
       "      <th>product_width_cm</th>\n",
       "    </tr>\n",
       "  </thead>\n",
       "  <tbody>\n",
       "    <tr>\n",
       "      <th>0</th>\n",
       "      <td>1e9e8ef04dbcff4541ed26657ea517e5</td>\n",
       "      <td>perfumaria</td>\n",
       "      <td>40.0</td>\n",
       "      <td>287.0</td>\n",
       "      <td>1.0</td>\n",
       "      <td>225.0</td>\n",
       "      <td>16.0</td>\n",
       "      <td>10.0</td>\n",
       "      <td>14.0</td>\n",
       "    </tr>\n",
       "  </tbody>\n",
       "</table>\n",
       "</div>"
      ],
      "text/plain": [
       "                         product_id product_category_name  \\\n",
       "0  1e9e8ef04dbcff4541ed26657ea517e5            perfumaria   \n",
       "\n",
       "   product_name_lenght  product_description_lenght  product_photos_qty  \\\n",
       "0                 40.0                       287.0                 1.0   \n",
       "\n",
       "   product_weight_g  product_length_cm  product_height_cm  product_width_cm  \n",
       "0             225.0               16.0               10.0              14.0  "
      ]
     },
     "execution_count": 23,
     "metadata": {},
     "output_type": "execute_result"
    }
   ],
   "source": [
    "products.head(1)"
   ]
  },
  {
   "cell_type": "markdown",
   "metadata": {},
   "source": [
    "#### regrouper les order id entre eux (identifiant unique de la commande) "
   ]
  },
  {
   "cell_type": "code",
   "execution_count": 24,
   "metadata": {},
   "outputs": [
    {
     "name": "stdout",
     "output_type": "stream",
     "text": [
      "(99441, 8)\n",
      "(112650, 7)\n",
      "(103886, 5)\n",
      "(100000, 7)\n"
     ]
    }
   ],
   "source": [
    "print (orders.shape)\n",
    "print (order_items.shape)\n",
    "print (order_payments.shape)\n",
    "print (order_reviews.shape)"
   ]
  },
  {
   "cell_type": "code",
   "execution_count": 26,
   "metadata": {},
   "outputs": [
    {
     "name": "stdout",
     "output_type": "stream",
     "text": [
      "(118315, 24)\n",
      "(32951, 9)\n",
      "(118315, 32)\n",
      "(118315, 36)\n"
     ]
    }
   ],
   "source": [
    "commandes = pd.merge(pd.merge(pd.merge(orders,order_items,on='order_id'),order_payments,on='order_id'),\n",
    "                     order_reviews,on='order_id')\n",
    "\n",
    "print(commandes.shape)\n",
    "print(products.shape)\n",
    "commandes = pd.merge(commandes,products,on='product_id')\n",
    "print(commandes.shape)\n",
    "df = pd.merge(customers,commandes,on='customer_id')\n",
    "print(df.shape)"
   ]
  },
  {
   "cell_type": "code",
   "execution_count": 28,
   "metadata": {},
   "outputs": [
    {
     "data": {
      "text/html": [
       "<div>\n",
       "<style scoped>\n",
       "    .dataframe tbody tr th:only-of-type {\n",
       "        vertical-align: middle;\n",
       "    }\n",
       "\n",
       "    .dataframe tbody tr th {\n",
       "        vertical-align: top;\n",
       "    }\n",
       "\n",
       "    .dataframe thead th {\n",
       "        text-align: right;\n",
       "    }\n",
       "</style>\n",
       "<table border=\"1\" class=\"dataframe\">\n",
       "  <thead>\n",
       "    <tr style=\"text-align: right;\">\n",
       "      <th></th>\n",
       "      <th>order_id</th>\n",
       "      <th>customer_id</th>\n",
       "      <th>order_status</th>\n",
       "      <th>order_purchase_timestamp</th>\n",
       "      <th>order_approved_at</th>\n",
       "      <th>order_delivered_carrier_date</th>\n",
       "      <th>order_delivered_customer_date</th>\n",
       "      <th>order_estimated_delivery_date</th>\n",
       "      <th>order_item_id</th>\n",
       "      <th>product_id</th>\n",
       "      <th>...</th>\n",
       "      <th>review_creation_date</th>\n",
       "      <th>review_answer_timestamp</th>\n",
       "      <th>product_category_name</th>\n",
       "      <th>product_name_lenght</th>\n",
       "      <th>product_description_lenght</th>\n",
       "      <th>product_photos_qty</th>\n",
       "      <th>product_weight_g</th>\n",
       "      <th>product_length_cm</th>\n",
       "      <th>product_height_cm</th>\n",
       "      <th>product_width_cm</th>\n",
       "    </tr>\n",
       "  </thead>\n",
       "  <tbody>\n",
       "    <tr>\n",
       "      <th>0</th>\n",
       "      <td>e481f51cbdc54678b7cc49136f2d6af7</td>\n",
       "      <td>9ef432eb6251297304e76186b10a928d</td>\n",
       "      <td>delivered</td>\n",
       "      <td>2017-10-02 10:56:33</td>\n",
       "      <td>2017-10-02 11:07:15</td>\n",
       "      <td>2017-10-04 19:55:00</td>\n",
       "      <td>2017-10-10 21:25:13</td>\n",
       "      <td>2017-10-18 00:00:00</td>\n",
       "      <td>1</td>\n",
       "      <td>87285b34884572647811a353c7ac498a</td>\n",
       "      <td>...</td>\n",
       "      <td>2017-10-11 00:00:00</td>\n",
       "      <td>2017-10-12 03:43:48</td>\n",
       "      <td>utilidades_domesticas</td>\n",
       "      <td>40.0</td>\n",
       "      <td>268.0</td>\n",
       "      <td>4.0</td>\n",
       "      <td>500.0</td>\n",
       "      <td>19.0</td>\n",
       "      <td>8.0</td>\n",
       "      <td>13.0</td>\n",
       "    </tr>\n",
       "    <tr>\n",
       "      <th>1</th>\n",
       "      <td>e481f51cbdc54678b7cc49136f2d6af7</td>\n",
       "      <td>9ef432eb6251297304e76186b10a928d</td>\n",
       "      <td>delivered</td>\n",
       "      <td>2017-10-02 10:56:33</td>\n",
       "      <td>2017-10-02 11:07:15</td>\n",
       "      <td>2017-10-04 19:55:00</td>\n",
       "      <td>2017-10-10 21:25:13</td>\n",
       "      <td>2017-10-18 00:00:00</td>\n",
       "      <td>1</td>\n",
       "      <td>87285b34884572647811a353c7ac498a</td>\n",
       "      <td>...</td>\n",
       "      <td>2017-10-11 00:00:00</td>\n",
       "      <td>2017-10-12 03:43:48</td>\n",
       "      <td>utilidades_domesticas</td>\n",
       "      <td>40.0</td>\n",
       "      <td>268.0</td>\n",
       "      <td>4.0</td>\n",
       "      <td>500.0</td>\n",
       "      <td>19.0</td>\n",
       "      <td>8.0</td>\n",
       "      <td>13.0</td>\n",
       "    </tr>\n",
       "    <tr>\n",
       "      <th>2</th>\n",
       "      <td>e481f51cbdc54678b7cc49136f2d6af7</td>\n",
       "      <td>9ef432eb6251297304e76186b10a928d</td>\n",
       "      <td>delivered</td>\n",
       "      <td>2017-10-02 10:56:33</td>\n",
       "      <td>2017-10-02 11:07:15</td>\n",
       "      <td>2017-10-04 19:55:00</td>\n",
       "      <td>2017-10-10 21:25:13</td>\n",
       "      <td>2017-10-18 00:00:00</td>\n",
       "      <td>1</td>\n",
       "      <td>87285b34884572647811a353c7ac498a</td>\n",
       "      <td>...</td>\n",
       "      <td>2017-10-11 00:00:00</td>\n",
       "      <td>2017-10-12 03:43:48</td>\n",
       "      <td>utilidades_domesticas</td>\n",
       "      <td>40.0</td>\n",
       "      <td>268.0</td>\n",
       "      <td>4.0</td>\n",
       "      <td>500.0</td>\n",
       "      <td>19.0</td>\n",
       "      <td>8.0</td>\n",
       "      <td>13.0</td>\n",
       "    </tr>\n",
       "    <tr>\n",
       "      <th>3</th>\n",
       "      <td>128e10d95713541c87cd1a2e48201934</td>\n",
       "      <td>a20e8105f23924cd00833fd87daa0831</td>\n",
       "      <td>delivered</td>\n",
       "      <td>2017-08-15 18:29:31</td>\n",
       "      <td>2017-08-15 20:05:16</td>\n",
       "      <td>2017-08-17 15:28:33</td>\n",
       "      <td>2017-08-18 14:44:43</td>\n",
       "      <td>2017-08-28 00:00:00</td>\n",
       "      <td>1</td>\n",
       "      <td>87285b34884572647811a353c7ac498a</td>\n",
       "      <td>...</td>\n",
       "      <td>2017-08-19 00:00:00</td>\n",
       "      <td>2017-08-20 15:16:36</td>\n",
       "      <td>utilidades_domesticas</td>\n",
       "      <td>40.0</td>\n",
       "      <td>268.0</td>\n",
       "      <td>4.0</td>\n",
       "      <td>500.0</td>\n",
       "      <td>19.0</td>\n",
       "      <td>8.0</td>\n",
       "      <td>13.0</td>\n",
       "    </tr>\n",
       "    <tr>\n",
       "      <th>4</th>\n",
       "      <td>0e7e841ddf8f8f2de2bad69267ecfbcf</td>\n",
       "      <td>26c7ac168e1433912a51b924fbd34d34</td>\n",
       "      <td>delivered</td>\n",
       "      <td>2017-08-02 18:24:47</td>\n",
       "      <td>2017-08-02 18:43:15</td>\n",
       "      <td>2017-08-04 17:35:43</td>\n",
       "      <td>2017-08-07 18:30:01</td>\n",
       "      <td>2017-08-15 00:00:00</td>\n",
       "      <td>1</td>\n",
       "      <td>87285b34884572647811a353c7ac498a</td>\n",
       "      <td>...</td>\n",
       "      <td>2017-08-08 00:00:00</td>\n",
       "      <td>2017-08-08 23:26:23</td>\n",
       "      <td>utilidades_domesticas</td>\n",
       "      <td>40.0</td>\n",
       "      <td>268.0</td>\n",
       "      <td>4.0</td>\n",
       "      <td>500.0</td>\n",
       "      <td>19.0</td>\n",
       "      <td>8.0</td>\n",
       "      <td>13.0</td>\n",
       "    </tr>\n",
       "    <tr>\n",
       "      <th>5</th>\n",
       "      <td>bfc39df4f36c3693ff3b63fcbea9e90a</td>\n",
       "      <td>53904ddbea91e1e92b2b3f1d09a7af86</td>\n",
       "      <td>delivered</td>\n",
       "      <td>2017-10-23 23:26:46</td>\n",
       "      <td>2017-10-25 02:14:11</td>\n",
       "      <td>2017-10-27 16:48:46</td>\n",
       "      <td>2017-11-07 18:04:59</td>\n",
       "      <td>2017-11-13 00:00:00</td>\n",
       "      <td>1</td>\n",
       "      <td>87285b34884572647811a353c7ac498a</td>\n",
       "      <td>...</td>\n",
       "      <td>2017-11-08 00:00:00</td>\n",
       "      <td>2017-11-10 19:52:38</td>\n",
       "      <td>utilidades_domesticas</td>\n",
       "      <td>40.0</td>\n",
       "      <td>268.0</td>\n",
       "      <td>4.0</td>\n",
       "      <td>500.0</td>\n",
       "      <td>19.0</td>\n",
       "      <td>8.0</td>\n",
       "      <td>13.0</td>\n",
       "    </tr>\n",
       "    <tr>\n",
       "      <th>6</th>\n",
       "      <td>53cdb2fc8bc7dce0b6741e2150273451</td>\n",
       "      <td>b0830fb4747a6c6d20dea0b8c802d7ef</td>\n",
       "      <td>delivered</td>\n",
       "      <td>2018-07-24 20:41:37</td>\n",
       "      <td>2018-07-26 03:24:27</td>\n",
       "      <td>2018-07-26 14:31:00</td>\n",
       "      <td>2018-08-07 15:27:45</td>\n",
       "      <td>2018-08-13 00:00:00</td>\n",
       "      <td>1</td>\n",
       "      <td>595fac2a385ac33a80bd5114aec74eb8</td>\n",
       "      <td>...</td>\n",
       "      <td>2018-08-08 00:00:00</td>\n",
       "      <td>2018-08-08 18:37:50</td>\n",
       "      <td>perfumaria</td>\n",
       "      <td>29.0</td>\n",
       "      <td>178.0</td>\n",
       "      <td>1.0</td>\n",
       "      <td>400.0</td>\n",
       "      <td>19.0</td>\n",
       "      <td>13.0</td>\n",
       "      <td>19.0</td>\n",
       "    </tr>\n",
       "    <tr>\n",
       "      <th>7</th>\n",
       "      <td>40c5e18f7d112b59b3e5113a59a905b3</td>\n",
       "      <td>67407057a7d5ee17d1cd09523f484d13</td>\n",
       "      <td>delivered</td>\n",
       "      <td>2018-06-11 10:25:52</td>\n",
       "      <td>2018-06-11 10:58:32</td>\n",
       "      <td>2018-06-14 13:03:00</td>\n",
       "      <td>2018-06-19 00:31:13</td>\n",
       "      <td>2018-07-16 00:00:00</td>\n",
       "      <td>1</td>\n",
       "      <td>595fac2a385ac33a80bd5114aec74eb8</td>\n",
       "      <td>...</td>\n",
       "      <td>2018-06-20 00:00:00</td>\n",
       "      <td>2018-06-20 13:12:42</td>\n",
       "      <td>perfumaria</td>\n",
       "      <td>29.0</td>\n",
       "      <td>178.0</td>\n",
       "      <td>1.0</td>\n",
       "      <td>400.0</td>\n",
       "      <td>19.0</td>\n",
       "      <td>13.0</td>\n",
       "      <td>19.0</td>\n",
       "    </tr>\n",
       "    <tr>\n",
       "      <th>8</th>\n",
       "      <td>86674ccaee19790309333210917b2c7d</td>\n",
       "      <td>1b338293f35549b5e480b9a3d7bbf3cd</td>\n",
       "      <td>delivered</td>\n",
       "      <td>2018-08-09 11:37:35</td>\n",
       "      <td>2018-08-09 14:35:19</td>\n",
       "      <td>2018-08-10 14:34:00</td>\n",
       "      <td>2018-08-14 18:51:47</td>\n",
       "      <td>2018-08-22 00:00:00</td>\n",
       "      <td>1</td>\n",
       "      <td>595fac2a385ac33a80bd5114aec74eb8</td>\n",
       "      <td>...</td>\n",
       "      <td>2018-08-15 00:00:00</td>\n",
       "      <td>2018-08-18 16:12:50</td>\n",
       "      <td>perfumaria</td>\n",
       "      <td>29.0</td>\n",
       "      <td>178.0</td>\n",
       "      <td>1.0</td>\n",
       "      <td>400.0</td>\n",
       "      <td>19.0</td>\n",
       "      <td>13.0</td>\n",
       "      <td>19.0</td>\n",
       "    </tr>\n",
       "    <tr>\n",
       "      <th>9</th>\n",
       "      <td>f913d229653fdd809c249ed98ab6b754</td>\n",
       "      <td>e1365d7b227b247b6bc0931771885eaf</td>\n",
       "      <td>delivered</td>\n",
       "      <td>2018-04-30 02:18:32</td>\n",
       "      <td>2018-04-30 03:00:14</td>\n",
       "      <td>2018-04-30 13:54:00</td>\n",
       "      <td>2018-05-08 17:53:51</td>\n",
       "      <td>2018-05-24 00:00:00</td>\n",
       "      <td>1</td>\n",
       "      <td>595fac2a385ac33a80bd5114aec74eb8</td>\n",
       "      <td>...</td>\n",
       "      <td>2018-05-09 00:00:00</td>\n",
       "      <td>2018-05-10 01:17:48</td>\n",
       "      <td>perfumaria</td>\n",
       "      <td>29.0</td>\n",
       "      <td>178.0</td>\n",
       "      <td>1.0</td>\n",
       "      <td>400.0</td>\n",
       "      <td>19.0</td>\n",
       "      <td>13.0</td>\n",
       "      <td>19.0</td>\n",
       "    </tr>\n",
       "  </tbody>\n",
       "</table>\n",
       "<p>10 rows × 32 columns</p>\n",
       "</div>"
      ],
      "text/plain": [
       "                           order_id                       customer_id  \\\n",
       "0  e481f51cbdc54678b7cc49136f2d6af7  9ef432eb6251297304e76186b10a928d   \n",
       "1  e481f51cbdc54678b7cc49136f2d6af7  9ef432eb6251297304e76186b10a928d   \n",
       "2  e481f51cbdc54678b7cc49136f2d6af7  9ef432eb6251297304e76186b10a928d   \n",
       "3  128e10d95713541c87cd1a2e48201934  a20e8105f23924cd00833fd87daa0831   \n",
       "4  0e7e841ddf8f8f2de2bad69267ecfbcf  26c7ac168e1433912a51b924fbd34d34   \n",
       "5  bfc39df4f36c3693ff3b63fcbea9e90a  53904ddbea91e1e92b2b3f1d09a7af86   \n",
       "6  53cdb2fc8bc7dce0b6741e2150273451  b0830fb4747a6c6d20dea0b8c802d7ef   \n",
       "7  40c5e18f7d112b59b3e5113a59a905b3  67407057a7d5ee17d1cd09523f484d13   \n",
       "8  86674ccaee19790309333210917b2c7d  1b338293f35549b5e480b9a3d7bbf3cd   \n",
       "9  f913d229653fdd809c249ed98ab6b754  e1365d7b227b247b6bc0931771885eaf   \n",
       "\n",
       "  order_status order_purchase_timestamp    order_approved_at  \\\n",
       "0    delivered      2017-10-02 10:56:33  2017-10-02 11:07:15   \n",
       "1    delivered      2017-10-02 10:56:33  2017-10-02 11:07:15   \n",
       "2    delivered      2017-10-02 10:56:33  2017-10-02 11:07:15   \n",
       "3    delivered      2017-08-15 18:29:31  2017-08-15 20:05:16   \n",
       "4    delivered      2017-08-02 18:24:47  2017-08-02 18:43:15   \n",
       "5    delivered      2017-10-23 23:26:46  2017-10-25 02:14:11   \n",
       "6    delivered      2018-07-24 20:41:37  2018-07-26 03:24:27   \n",
       "7    delivered      2018-06-11 10:25:52  2018-06-11 10:58:32   \n",
       "8    delivered      2018-08-09 11:37:35  2018-08-09 14:35:19   \n",
       "9    delivered      2018-04-30 02:18:32  2018-04-30 03:00:14   \n",
       "\n",
       "  order_delivered_carrier_date order_delivered_customer_date  \\\n",
       "0          2017-10-04 19:55:00           2017-10-10 21:25:13   \n",
       "1          2017-10-04 19:55:00           2017-10-10 21:25:13   \n",
       "2          2017-10-04 19:55:00           2017-10-10 21:25:13   \n",
       "3          2017-08-17 15:28:33           2017-08-18 14:44:43   \n",
       "4          2017-08-04 17:35:43           2017-08-07 18:30:01   \n",
       "5          2017-10-27 16:48:46           2017-11-07 18:04:59   \n",
       "6          2018-07-26 14:31:00           2018-08-07 15:27:45   \n",
       "7          2018-06-14 13:03:00           2018-06-19 00:31:13   \n",
       "8          2018-08-10 14:34:00           2018-08-14 18:51:47   \n",
       "9          2018-04-30 13:54:00           2018-05-08 17:53:51   \n",
       "\n",
       "  order_estimated_delivery_date  order_item_id  \\\n",
       "0           2017-10-18 00:00:00              1   \n",
       "1           2017-10-18 00:00:00              1   \n",
       "2           2017-10-18 00:00:00              1   \n",
       "3           2017-08-28 00:00:00              1   \n",
       "4           2017-08-15 00:00:00              1   \n",
       "5           2017-11-13 00:00:00              1   \n",
       "6           2018-08-13 00:00:00              1   \n",
       "7           2018-07-16 00:00:00              1   \n",
       "8           2018-08-22 00:00:00              1   \n",
       "9           2018-05-24 00:00:00              1   \n",
       "\n",
       "                         product_id  ... review_creation_date  \\\n",
       "0  87285b34884572647811a353c7ac498a  ...  2017-10-11 00:00:00   \n",
       "1  87285b34884572647811a353c7ac498a  ...  2017-10-11 00:00:00   \n",
       "2  87285b34884572647811a353c7ac498a  ...  2017-10-11 00:00:00   \n",
       "3  87285b34884572647811a353c7ac498a  ...  2017-08-19 00:00:00   \n",
       "4  87285b34884572647811a353c7ac498a  ...  2017-08-08 00:00:00   \n",
       "5  87285b34884572647811a353c7ac498a  ...  2017-11-08 00:00:00   \n",
       "6  595fac2a385ac33a80bd5114aec74eb8  ...  2018-08-08 00:00:00   \n",
       "7  595fac2a385ac33a80bd5114aec74eb8  ...  2018-06-20 00:00:00   \n",
       "8  595fac2a385ac33a80bd5114aec74eb8  ...  2018-08-15 00:00:00   \n",
       "9  595fac2a385ac33a80bd5114aec74eb8  ...  2018-05-09 00:00:00   \n",
       "\n",
       "  review_answer_timestamp  product_category_name  product_name_lenght  \\\n",
       "0     2017-10-12 03:43:48  utilidades_domesticas                 40.0   \n",
       "1     2017-10-12 03:43:48  utilidades_domesticas                 40.0   \n",
       "2     2017-10-12 03:43:48  utilidades_domesticas                 40.0   \n",
       "3     2017-08-20 15:16:36  utilidades_domesticas                 40.0   \n",
       "4     2017-08-08 23:26:23  utilidades_domesticas                 40.0   \n",
       "5     2017-11-10 19:52:38  utilidades_domesticas                 40.0   \n",
       "6     2018-08-08 18:37:50             perfumaria                 29.0   \n",
       "7     2018-06-20 13:12:42             perfumaria                 29.0   \n",
       "8     2018-08-18 16:12:50             perfumaria                 29.0   \n",
       "9     2018-05-10 01:17:48             perfumaria                 29.0   \n",
       "\n",
       "   product_description_lenght product_photos_qty  product_weight_g  \\\n",
       "0                       268.0                4.0             500.0   \n",
       "1                       268.0                4.0             500.0   \n",
       "2                       268.0                4.0             500.0   \n",
       "3                       268.0                4.0             500.0   \n",
       "4                       268.0                4.0             500.0   \n",
       "5                       268.0                4.0             500.0   \n",
       "6                       178.0                1.0             400.0   \n",
       "7                       178.0                1.0             400.0   \n",
       "8                       178.0                1.0             400.0   \n",
       "9                       178.0                1.0             400.0   \n",
       "\n",
       "   product_length_cm product_height_cm  product_width_cm  \n",
       "0               19.0               8.0              13.0  \n",
       "1               19.0               8.0              13.0  \n",
       "2               19.0               8.0              13.0  \n",
       "3               19.0               8.0              13.0  \n",
       "4               19.0               8.0              13.0  \n",
       "5               19.0               8.0              13.0  \n",
       "6               19.0              13.0              19.0  \n",
       "7               19.0              13.0              19.0  \n",
       "8               19.0              13.0              19.0  \n",
       "9               19.0              13.0              19.0  \n",
       "\n",
       "[10 rows x 32 columns]"
      ]
     },
     "execution_count": 28,
     "metadata": {},
     "output_type": "execute_result"
    }
   ],
   "source": [
    "commandes.head(10)"
   ]
  },
  {
   "cell_type": "code",
   "execution_count": 29,
   "metadata": {},
   "outputs": [
    {
     "name": "stdout",
     "output_type": "stream",
     "text": [
      "Valeursmanquantes par colonne:\n",
      "customer_id                           0\n",
      "customer_unique_id                    0\n",
      "customer_zip_code_prefix              0\n",
      "customer_city                         0\n",
      "customer_state                        0\n",
      "order_id                              0\n",
      "order_status                          0\n",
      "order_purchase_timestamp              0\n",
      "order_approved_at                    15\n",
      "order_delivered_carrier_date       1254\n",
      "order_delivered_customer_date      2588\n",
      "order_estimated_delivery_date         0\n",
      "order_item_id                         0\n",
      "product_id                            0\n",
      "seller_id                             0\n",
      "shipping_limit_date                   0\n",
      "price                                 0\n",
      "freight_value                         0\n",
      "payment_sequential                    0\n",
      "payment_type                          0\n",
      "payment_installments                  0\n",
      "payment_value                         0\n",
      "review_id                             0\n",
      "review_score                          0\n",
      "review_comment_title             104226\n",
      "review_comment_message            67650\n",
      "review_creation_date                  0\n",
      "review_answer_timestamp               0\n",
      "product_category_name              1709\n",
      "product_name_lenght                1709\n",
      "product_description_lenght         1709\n",
      "product_photos_qty                 1709\n",
      "product_weight_g                     20\n",
      "product_length_cm                    20\n",
      "product_height_cm                    20\n",
      "product_width_cm                     20\n",
      "dtype: int64\n"
     ]
    }
   ],
   "source": [
    "def num_missing(df):\n",
    "    return sum(df.isnull())\n",
    "# On applique cette fonction pour chaque colonne:\n",
    "print(\"Valeursmanquantes par colonne:\")\n",
    "print(df.apply(num_missing, axis=0))"
   ]
  },
  {
   "cell_type": "code",
   "execution_count": 30,
   "metadata": {},
   "outputs": [
    {
     "data": {
      "text/plain": [
       "95419"
      ]
     },
     "execution_count": 30,
     "metadata": {},
     "output_type": "execute_result"
    }
   ],
   "source": [
    "df['customer_unique_id'].nunique()"
   ]
  },
  {
   "cell_type": "markdown",
   "metadata": {},
   "source": [
    "#### Objectif est de créer une fonction pour avoir un df , avec une ligne par clients et en colonnes les différentes features créées"
   ]
  },
  {
   "cell_type": "code",
   "execution_count": 31,
   "metadata": {},
   "outputs": [],
   "source": [
    "def creation_du_dataset(df):\n",
    "      \n",
    "    ## nettoyage\n",
    "\n",
    "    \n",
    "    df['review_comment_message'].fillna(\"no comme\", inplace=True)\n",
    "    df =df.drop(['review_comment_title'],axis=1)\n",
    "    df = df.dropna()\n",
    "    print(df.shape)\n",
    "    print(\"le nombre de valeur identifiant unique : \", df['customer_unique_id'].nunique())\n",
    "   \n",
    "    \n",
    "    ##feature engineering\n",
    "    \n",
    "    # achat moyen \n",
    "    \n",
    "    achat_moy = df[['customer_unique_id','price']].groupby(['customer_unique_id']).mean()\n",
    "    achat_moy = achat_moy.rename(columns = {'price': 'achat_moy'})\n",
    "    achat_moy = achat_moy.reset_index()\n",
    "    print(\"le nombre de valeur identifiant unique : \",achat_moy['customer_unique_id'].nunique())\n",
    "    #print(achat_moy.shape)\n",
    "    \n",
    "    \n",
    "    # nombre d'achat\n",
    "    \n",
    "    nombre_achat_par_client = df[['customer_unique_id','product_id']].groupby(['customer_unique_id']).count()\n",
    "    nombre_achat_par_client = nombre_achat_par_client.rename(columns = {'product_id': 'nombre_achat_par_client'})\n",
    "    nombre_achat_par_client = nombre_achat_par_client.reset_index()\n",
    "    print(\"le nombre de valeur identifiant unique : \",nombre_achat_par_client['customer_unique_id'].nunique())\n",
    "    #print(nombre_achat_par_client.shape)\n",
    "    \n",
    "    # note moyenne \n",
    "    \n",
    "    note_moyenne = df[['customer_unique_id','review_score']].groupby(['customer_unique_id']).mean()\n",
    "    note_moyenne = note_moyenne.rename(columns = {'review_score': 'note'})\n",
    "    note_moyenne = note_moyenne.reset_index()\n",
    "    print(\"le nombre de valeur identifiant unique : \",note_moyenne['customer_unique_id'].nunique())\n",
    "    \n",
    "    #type de paiment\n",
    "    \n",
    "    type_de_paiment = df[['customer_unique_id','payment_type']].groupby([\n",
    "        'customer_unique_id'])['payment_type'].apply(lambda x: x.mode()[0])\n",
    "    type_de_paiment = pd.DataFrame(type_de_paiment)\n",
    "    type_de_paiment = type_de_paiment.reset_index()\n",
    "    print(\"le nombre de valeur identifiant unique : \",type_de_paiment['customer_unique_id'].nunique())\n",
    "    \n",
    "    \n",
    "    # le client paie en combien de fois \n",
    "    divise_le_paiment = df[['customer_unique_id','payment_installments']].groupby(['customer_unique_id']).mean()\n",
    "    divise_le_paiment = divise_le_paiment.reset_index()\n",
    "    print(\"le nombre de valeur identifiant unique : \",divise_le_paiment['customer_unique_id'].nunique())\n",
    "    \n",
    "    \n",
    "    # les villes où l'on achete \n",
    "    ville = df[['customer_unique_id','customer_city']].groupby([\n",
    "        'customer_unique_id'])['customer_city'].apply(lambda x: x.mode()[0])\n",
    "    ville = pd.DataFrame(ville)\n",
    "    ville = ville.reset_index()\n",
    "    print(\"le nombre de valeur identifiant unique : \",ville['customer_unique_id'].nunique())\n",
    "    #print(ville.shape)\n",
    "    \n",
    "    # les etat où l'on achette le plus \n",
    "    etat = df[['customer_unique_id','customer_state']].groupby([\n",
    "        'customer_unique_id'])['customer_state'].apply(lambda x: x.mode()[0])\n",
    "    etat = pd.DataFrame(etat)    \n",
    "    etat = etat.reset_index()\n",
    "    print(\"le nombre de valeur identifiant unique : \",etat['customer_unique_id'].nunique())\n",
    "    \n",
    "    # delais de la commande \n",
    "    delai_commande = df[['customer_unique_id','order_purchase_timestamp','order_delivered_customer_date']].groupby([\n",
    "        'customer_unique_id']).head(5)\n",
    "    delai_commande['order_purchase_timestamp'] = delai_commande['order_purchase_timestamp'].astype('datetime64')\n",
    "    delai_commande['order_delivered_customer_date'] = pd.to_datetime(delai_commande['order_delivered_customer_date'], \n",
    "                                                                     errors='coerce')\n",
    "    delai_commande['delai_commande'] = delai_commande['order_delivered_customer_date']- delai_commande[\n",
    "        'order_purchase_timestamp']\n",
    "    delai_commande = delai_commande.drop(['order_purchase_timestamp','order_delivered_customer_date'],axis=1)\n",
    "    #print(delai_commande.shape)\n",
    "    print(\"le nombre de valeur identifiant unique : \",delai_commande['customer_unique_id'].nunique())\n",
    "    \n",
    "    #le jour de la semaine\n",
    "    jour_achat = df[['customer_unique_id','order_purchase_timestamp','order_delivered_customer_date']].groupby([\n",
    "    'customer_unique_id']).head(5)\n",
    "    jour_achat['order_purchase_timestamp'] = jour_achat['order_purchase_timestamp'].astype('datetime64')\n",
    "    jour_achat['jour_achat'] = jour_achat['order_purchase_timestamp'].apply(lambda x: x.weekday())\n",
    "    jour_achat = jour_achat.drop(['order_purchase_timestamp','order_delivered_customer_date'],axis=1)\n",
    "    print(\"le nombre de valeur identifiant unique : \",jour_achat['customer_unique_id'].nunique())\n",
    "    #print(jour_achat.shape)\n",
    "    \n",
    "    #heure achat\n",
    "    \n",
    "    heure_achat = df[['customer_unique_id','order_purchase_timestamp','order_delivered_customer_date']].groupby([\n",
    "    'customer_unique_id']).head(5)\n",
    "    heure_achat['order_purchase_timestamp'] = heure_achat['order_purchase_timestamp'].astype('datetime64')\n",
    "    heure_achat['heure_de_achat'] = heure_achat['order_purchase_timestamp'].apply(lambda x: x.hour)\n",
    "    heure_achat = heure_achat.drop(['order_purchase_timestamp','order_delivered_customer_date'],axis=1)\n",
    "    print(\"le nombre de valeur identifiant unique : \",heure_achat['customer_unique_id'].nunique())\n",
    "    #print(heure_achat.shape)\n",
    "    \n",
    "    # taille du commentaire \n",
    "    \n",
    "    for label, row in df.iterrows():\n",
    "        df.loc[label, 'longeur_du_commentaire'] =len(row['review_comment_message'])\n",
    "    taille_commentaire = df[['customer_unique_id','longeur_du_commentaire']].groupby(['customer_unique_id']).mean()\n",
    "    taille_commentaire = taille_commentaire.reset_index()\n",
    "    print(\"le nombre de valeur identifiant unique : \",taille_commentaire['customer_unique_id'].nunique())\n",
    "    \n",
    "    #produit le plus acheté \n",
    "    \n",
    "    produit_le_plus_acheté = df[['customer_unique_id','product_category_name']].groupby([\n",
    "        'customer_unique_id'])['product_category_name'].apply(lambda x: x.mode()[0])\n",
    "    produit_le_plus_acheté = pd.DataFrame(produit_le_plus_acheté)\n",
    "    produit_le_plus_acheté = produit_le_plus_acheté.reset_index()\n",
    "    print(\"le nombre de valeur identifiant unique : \",produit_le_plus_acheté['customer_unique_id'].nunique())\n",
    "    #print(produit_le_plus_acheté.shape)\n",
    "    \n",
    "    ### Rassembler \n",
    "    \n",
    "    df_f = nombre_achat_par_client.merge(achat_moy)\n",
    "    print(df_f['customer_unique_id'].nunique())\n",
    "    df_f = df_f.merge(note_moyenne)\n",
    "    print(df_f['customer_unique_id'].nunique())\n",
    "    df_f = df_f.merge(type_de_paiment)\n",
    "    print(df_f['customer_unique_id'].nunique())\n",
    "    df_f = df_f.merge(divise_le_paiment)\n",
    "    print(df_f['customer_unique_id'].nunique())\n",
    "    df_f = df_f.merge(ville)\n",
    "    print(df_f['customer_unique_id'].nunique())\n",
    "    df_f = df_f.merge(etat)\n",
    "    print(df_f['customer_unique_id'].nunique())\n",
    "    df_f = df_f.merge(delai_commande)\n",
    "    print(df_f['customer_unique_id'].nunique())\n",
    "    df_f = df_f.merge(jour_achat)\n",
    "    print(df_f['customer_unique_id'].nunique())\n",
    "    df_f = df_f.merge(heure_achat)\n",
    "    print(df_f['customer_unique_id'].nunique())\n",
    "    df_f = df_f.merge(taille_commentaire)\n",
    "    print(df_f['customer_unique_id'].nunique())\n",
    "    df_f = df_f.merge(produit_le_plus_acheté)\n",
    "    print(df_f['customer_unique_id'].nunique())\n",
    "    \n",
    "    \n",
    "    # un client par ligne\n",
    "  \n",
    "    df_f = df_f.drop_duplicates(['customer_unique_id'])\n",
    "\n",
    "    \n",
    "    \n",
    "    \n",
    "    \n",
    "    return df_f"
   ]
  },
  {
   "cell_type": "code",
   "execution_count": 32,
   "metadata": {},
   "outputs": [
    {
     "name": "stdout",
     "output_type": "stream",
     "text": [
      "(114073, 35)\n",
      "le nombre de valeur identifiant unique :  92081\n",
      "le nombre de valeur identifiant unique :  92081\n",
      "le nombre de valeur identifiant unique :  92081\n",
      "le nombre de valeur identifiant unique :  92081\n",
      "le nombre de valeur identifiant unique :  92081\n",
      "le nombre de valeur identifiant unique :  92081\n",
      "le nombre de valeur identifiant unique :  92081\n",
      "le nombre de valeur identifiant unique :  92081\n",
      "le nombre de valeur identifiant unique :  92081\n",
      "le nombre de valeur identifiant unique :  92081\n",
      "le nombre de valeur identifiant unique :  92081\n",
      "le nombre de valeur identifiant unique :  92081\n",
      "le nombre de valeur identifiant unique :  92081\n",
      "92081\n",
      "92081\n",
      "92081\n",
      "92081\n",
      "92081\n",
      "92081\n",
      "92081\n",
      "92081\n",
      "92081\n",
      "92081\n",
      "92081\n"
     ]
    }
   ],
   "source": [
    "df_f = creation_du_dataset(df)"
   ]
  },
  {
   "cell_type": "code",
   "execution_count": 33,
   "metadata": {},
   "outputs": [
    {
     "data": {
      "text/plain": [
       "92081"
      ]
     },
     "execution_count": 33,
     "metadata": {},
     "output_type": "execute_result"
    }
   ],
   "source": [
    "len(set(df_f.index))"
   ]
  },
  {
   "cell_type": "code",
   "execution_count": 34,
   "metadata": {},
   "outputs": [
    {
     "data": {
      "text/html": [
       "<div>\n",
       "<style scoped>\n",
       "    .dataframe tbody tr th:only-of-type {\n",
       "        vertical-align: middle;\n",
       "    }\n",
       "\n",
       "    .dataframe tbody tr th {\n",
       "        vertical-align: top;\n",
       "    }\n",
       "\n",
       "    .dataframe thead th {\n",
       "        text-align: right;\n",
       "    }\n",
       "</style>\n",
       "<table border=\"1\" class=\"dataframe\">\n",
       "  <thead>\n",
       "    <tr style=\"text-align: right;\">\n",
       "      <th></th>\n",
       "      <th>customer_unique_id</th>\n",
       "      <th>nombre_achat_par_client</th>\n",
       "      <th>achat_moy</th>\n",
       "      <th>note</th>\n",
       "      <th>payment_type</th>\n",
       "      <th>payment_installments</th>\n",
       "      <th>customer_city</th>\n",
       "      <th>customer_state</th>\n",
       "      <th>delai_commande</th>\n",
       "      <th>jour_achat</th>\n",
       "      <th>heure_de_achat</th>\n",
       "      <th>longeur_du_commentaire</th>\n",
       "      <th>product_category_name</th>\n",
       "    </tr>\n",
       "  </thead>\n",
       "  <tbody>\n",
       "    <tr>\n",
       "      <th>0</th>\n",
       "      <td>0000366f3b9a7992bf8c76cfdf3221e2</td>\n",
       "      <td>1</td>\n",
       "      <td>129.90</td>\n",
       "      <td>5.0</td>\n",
       "      <td>credit_card</td>\n",
       "      <td>8.0</td>\n",
       "      <td>cajamar</td>\n",
       "      <td>SP</td>\n",
       "      <td>6 days 09:52:10</td>\n",
       "      <td>3</td>\n",
       "      <td>10</td>\n",
       "      <td>111.0</td>\n",
       "      <td>cama_mesa_banho</td>\n",
       "    </tr>\n",
       "    <tr>\n",
       "      <th>1</th>\n",
       "      <td>0000b849f77a49e4a4ce2b2a4ca5be3f</td>\n",
       "      <td>1</td>\n",
       "      <td>18.90</td>\n",
       "      <td>4.0</td>\n",
       "      <td>credit_card</td>\n",
       "      <td>1.0</td>\n",
       "      <td>osasco</td>\n",
       "      <td>SP</td>\n",
       "      <td>3 days 06:51:15</td>\n",
       "      <td>0</td>\n",
       "      <td>11</td>\n",
       "      <td>8.0</td>\n",
       "      <td>beleza_saude</td>\n",
       "    </tr>\n",
       "    <tr>\n",
       "      <th>2</th>\n",
       "      <td>0000f46a3911fa3c0805444483337064</td>\n",
       "      <td>1</td>\n",
       "      <td>69.00</td>\n",
       "      <td>3.0</td>\n",
       "      <td>credit_card</td>\n",
       "      <td>8.0</td>\n",
       "      <td>sao jose</td>\n",
       "      <td>SC</td>\n",
       "      <td>25 days 17:33:44</td>\n",
       "      <td>4</td>\n",
       "      <td>21</td>\n",
       "      <td>8.0</td>\n",
       "      <td>papelaria</td>\n",
       "    </tr>\n",
       "    <tr>\n",
       "      <th>3</th>\n",
       "      <td>0000f6ccb0745a6a4b88665a16c9f078</td>\n",
       "      <td>1</td>\n",
       "      <td>25.99</td>\n",
       "      <td>4.0</td>\n",
       "      <td>credit_card</td>\n",
       "      <td>4.0</td>\n",
       "      <td>belem</td>\n",
       "      <td>PA</td>\n",
       "      <td>20 days 00:53:24</td>\n",
       "      <td>3</td>\n",
       "      <td>20</td>\n",
       "      <td>12.0</td>\n",
       "      <td>telefonia</td>\n",
       "    </tr>\n",
       "    <tr>\n",
       "      <th>4</th>\n",
       "      <td>0004aac84e0df4da2b147fca70cf8255</td>\n",
       "      <td>1</td>\n",
       "      <td>180.00</td>\n",
       "      <td>5.0</td>\n",
       "      <td>credit_card</td>\n",
       "      <td>6.0</td>\n",
       "      <td>sorocaba</td>\n",
       "      <td>SP</td>\n",
       "      <td>13 days 03:23:14</td>\n",
       "      <td>1</td>\n",
       "      <td>19</td>\n",
       "      <td>8.0</td>\n",
       "      <td>telefonia</td>\n",
       "    </tr>\n",
       "  </tbody>\n",
       "</table>\n",
       "</div>"
      ],
      "text/plain": [
       "                 customer_unique_id  nombre_achat_par_client  achat_moy  note  \\\n",
       "0  0000366f3b9a7992bf8c76cfdf3221e2                        1     129.90   5.0   \n",
       "1  0000b849f77a49e4a4ce2b2a4ca5be3f                        1      18.90   4.0   \n",
       "2  0000f46a3911fa3c0805444483337064                        1      69.00   3.0   \n",
       "3  0000f6ccb0745a6a4b88665a16c9f078                        1      25.99   4.0   \n",
       "4  0004aac84e0df4da2b147fca70cf8255                        1     180.00   5.0   \n",
       "\n",
       "  payment_type  payment_installments customer_city customer_state  \\\n",
       "0  credit_card                   8.0       cajamar             SP   \n",
       "1  credit_card                   1.0        osasco             SP   \n",
       "2  credit_card                   8.0      sao jose             SC   \n",
       "3  credit_card                   4.0         belem             PA   \n",
       "4  credit_card                   6.0      sorocaba             SP   \n",
       "\n",
       "    delai_commande  jour_achat  heure_de_achat  longeur_du_commentaire  \\\n",
       "0  6 days 09:52:10           3              10                   111.0   \n",
       "1  3 days 06:51:15           0              11                     8.0   \n",
       "2 25 days 17:33:44           4              21                     8.0   \n",
       "3 20 days 00:53:24           3              20                    12.0   \n",
       "4 13 days 03:23:14           1              19                     8.0   \n",
       "\n",
       "  product_category_name  \n",
       "0       cama_mesa_banho  \n",
       "1          beleza_saude  \n",
       "2             papelaria  \n",
       "3             telefonia  \n",
       "4             telefonia  "
      ]
     },
     "execution_count": 34,
     "metadata": {},
     "output_type": "execute_result"
    }
   ],
   "source": [
    "(df_f.sort_values(by=['customer_unique_id']).head(5))"
   ]
  },
  {
   "cell_type": "markdown",
   "metadata": {},
   "source": [
    "#### Réduire le nombre de catégories"
   ]
  },
  {
   "cell_type": "code",
   "execution_count": 35,
   "metadata": {},
   "outputs": [],
   "source": [
    "def cat (df_f):\n",
    "    \n",
    "    # Mettre les produits par catégories\n",
    "    \n",
    "    électro = ['utilidades_domesticas','eletrodomesticos','portateis_casa_forno_e_cafe',\n",
    "               'portateis_cozinha_e_preparadores_de_alimentos']\n",
    "    bureau = ['moveis_escritorio']\n",
    "    \n",
    "    techno = ['informatica_acessorios','eletronicos','telefonia','relogios_presentes','eletroportateis','consoles_games',\n",
    "    'telefonia_fixa','eletrodomesticos_2','pc_gamer']\n",
    "    \n",
    "    cultu = ['artes','livros_interesse_geral','livros_tecnicos','livros_importados','dvds_blu_ray','artes_e_artesanato','cine_foto',\n",
    "    'cds_dvds_musicais']\n",
    "    \n",
    "    sport = ['esporte_lazer']\n",
    "    \n",
    "    pdt_de_beauté = ['perfumaria','bebes','beleza_saude','fraldas_higiene']\n",
    "    \n",
    "    musiq = ['instrumentos_musicais','artigos_de_festas','audio','musica']\n",
    "    \n",
    "    autre = ['cool_stuff','brinquedos','malas_acessorios','papelaria','pcs',\n",
    "             'sinalizacao_e_seguranca','industria_comercio_e_negocios',\n",
    "    'tablets_impressao_imagem','artigos_de_natal','flores','seguros_e_servicos']\n",
    "    \n",
    "    maiso = ['moveis_decoracao','cama_mesa_banho','construcao_ferramentas_seguranca',\n",
    "             'ferramentas_jardim','casa_construcao',\n",
    "    'construcao_ferramentas_construcao','moveis_sala','climatizacao',\n",
    "             'moveis_cozinha_area_de_servico_jantar_e_jardim','la_cuisine',\n",
    "    'construcao_ferramentas_jardim','casa_conforto','moveis_quarto','casa_conforto_2','moveis_colchao_e_estofado']\n",
    "    \n",
    "    voitu = ['automotivo']\n",
    "    \n",
    "    mod = ['fashion_calcados','fashion_bolsas_e_acessorios','fashion_underwear_e_moda_praia',\n",
    "           'fashion_roupa_masculina',\n",
    "    'fashion_roupa_feminina','fashion_esporte','fashion_roupa_infanto_juvenil']\n",
    "    \n",
    "    anim = ['pet_shop']\n",
    "    nourr = ['agro_industria_e_comercio','bebidas','market_place','alimentos_bebidas','alimentos']\n",
    "    oult = ['construcao_ferramentas_ferramentas','construcao_ferramentas_iluminacao']\n",
    "\n",
    "\n",
    "    for elt in pdt_de_beauté:\n",
    "        df_f['product_category_name'] = df_f['product_category_name'].replace(elt,\"produit_de_beauté\")\n",
    "    for elt in électro:\n",
    "        df_f['product_category_name'] = df_f['product_category_name'].replace(elt,\"électroménagers\")\n",
    "    for elt in bureau:\n",
    "        df_f['product_category_name'] = df_f['product_category_name'].replace(elt,\"bureau\")\n",
    "    for elt in techno:\n",
    "        df_f['product_category_name'] = df_f['product_category_name'].replace(elt,\"technologie\")\n",
    "    for elt in cultu:\n",
    "        df_f['product_category_name'] = df_f['product_category_name'].replace(elt,\"culture\")\n",
    "    for elt in sport:\n",
    "        df_f['product_category_name'] = df_f['product_category_name'].replace(elt,\"sport\")    \n",
    "    for elt in musiq:\n",
    "        df_f['product_category_name'] = df_f['product_category_name'].replace(elt,\"musique\")\n",
    "    for elt in autre:\n",
    "        df_f['product_category_name'] = df_f['product_category_name'].replace(elt,\"autre\")    \n",
    "    for elt in maiso:\n",
    "        df_f['product_category_name'] = df_f['product_category_name'].replace(elt,\"maison\")    \n",
    "    for elt in voitu:\n",
    "        df_f['product_category_name'] = df_f['product_category_name'].replace(elt,\"voiture\")\n",
    "    for elt in mod:\n",
    "        df_f['product_category_name'] = df_f['product_category_name'].replace(elt,\"mode\")            \n",
    "    for elt in anim:\n",
    "        df_f['product_category_name'] = df_f['product_category_name'].replace(elt,\"animaux\")\n",
    "    for elt in nourr:\n",
    "        df_f['product_category_name'] = df_f['product_category_name'].replace(elt,\"nourriture\")      \n",
    "    for elt in oult:\n",
    "        df_f['product_category_name'] = df_f['product_category_name'].replace(elt,\"oultil\") \n",
    "        \n",
    "        \n",
    "    return df_f\n"
   ]
  },
  {
   "cell_type": "code",
   "execution_count": 36,
   "metadata": {},
   "outputs": [],
   "source": [
    "df_f = cat(df_f)"
   ]
  },
  {
   "cell_type": "code",
   "execution_count": 37,
   "metadata": {},
   "outputs": [
    {
     "data": {
      "text/html": [
       "<div>\n",
       "<style scoped>\n",
       "    .dataframe tbody tr th:only-of-type {\n",
       "        vertical-align: middle;\n",
       "    }\n",
       "\n",
       "    .dataframe tbody tr th {\n",
       "        vertical-align: top;\n",
       "    }\n",
       "\n",
       "    .dataframe thead th {\n",
       "        text-align: right;\n",
       "    }\n",
       "</style>\n",
       "<table border=\"1\" class=\"dataframe\">\n",
       "  <thead>\n",
       "    <tr style=\"text-align: right;\">\n",
       "      <th></th>\n",
       "      <th>customer_unique_id</th>\n",
       "      <th>nombre_achat_par_client</th>\n",
       "      <th>achat_moy</th>\n",
       "      <th>note</th>\n",
       "      <th>payment_type</th>\n",
       "      <th>payment_installments</th>\n",
       "      <th>customer_city</th>\n",
       "      <th>customer_state</th>\n",
       "      <th>delai_commande</th>\n",
       "      <th>jour_achat</th>\n",
       "      <th>heure_de_achat</th>\n",
       "      <th>longeur_du_commentaire</th>\n",
       "      <th>product_category_name</th>\n",
       "    </tr>\n",
       "  </thead>\n",
       "  <tbody>\n",
       "    <tr>\n",
       "      <th>0</th>\n",
       "      <td>0000366f3b9a7992bf8c76cfdf3221e2</td>\n",
       "      <td>1</td>\n",
       "      <td>129.90</td>\n",
       "      <td>5.0</td>\n",
       "      <td>credit_card</td>\n",
       "      <td>8.0</td>\n",
       "      <td>cajamar</td>\n",
       "      <td>SP</td>\n",
       "      <td>6 days 09:52:10</td>\n",
       "      <td>3</td>\n",
       "      <td>10</td>\n",
       "      <td>111.0</td>\n",
       "      <td>maison</td>\n",
       "    </tr>\n",
       "    <tr>\n",
       "      <th>1</th>\n",
       "      <td>0000b849f77a49e4a4ce2b2a4ca5be3f</td>\n",
       "      <td>1</td>\n",
       "      <td>18.90</td>\n",
       "      <td>4.0</td>\n",
       "      <td>credit_card</td>\n",
       "      <td>1.0</td>\n",
       "      <td>osasco</td>\n",
       "      <td>SP</td>\n",
       "      <td>3 days 06:51:15</td>\n",
       "      <td>0</td>\n",
       "      <td>11</td>\n",
       "      <td>8.0</td>\n",
       "      <td>produit_de_beauté</td>\n",
       "    </tr>\n",
       "    <tr>\n",
       "      <th>2</th>\n",
       "      <td>0000f46a3911fa3c0805444483337064</td>\n",
       "      <td>1</td>\n",
       "      <td>69.00</td>\n",
       "      <td>3.0</td>\n",
       "      <td>credit_card</td>\n",
       "      <td>8.0</td>\n",
       "      <td>sao jose</td>\n",
       "      <td>SC</td>\n",
       "      <td>25 days 17:33:44</td>\n",
       "      <td>4</td>\n",
       "      <td>21</td>\n",
       "      <td>8.0</td>\n",
       "      <td>autre</td>\n",
       "    </tr>\n",
       "    <tr>\n",
       "      <th>3</th>\n",
       "      <td>0000f6ccb0745a6a4b88665a16c9f078</td>\n",
       "      <td>1</td>\n",
       "      <td>25.99</td>\n",
       "      <td>4.0</td>\n",
       "      <td>credit_card</td>\n",
       "      <td>4.0</td>\n",
       "      <td>belem</td>\n",
       "      <td>PA</td>\n",
       "      <td>20 days 00:53:24</td>\n",
       "      <td>3</td>\n",
       "      <td>20</td>\n",
       "      <td>12.0</td>\n",
       "      <td>technologie</td>\n",
       "    </tr>\n",
       "    <tr>\n",
       "      <th>4</th>\n",
       "      <td>0004aac84e0df4da2b147fca70cf8255</td>\n",
       "      <td>1</td>\n",
       "      <td>180.00</td>\n",
       "      <td>5.0</td>\n",
       "      <td>credit_card</td>\n",
       "      <td>6.0</td>\n",
       "      <td>sorocaba</td>\n",
       "      <td>SP</td>\n",
       "      <td>13 days 03:23:14</td>\n",
       "      <td>1</td>\n",
       "      <td>19</td>\n",
       "      <td>8.0</td>\n",
       "      <td>technologie</td>\n",
       "    </tr>\n",
       "  </tbody>\n",
       "</table>\n",
       "</div>"
      ],
      "text/plain": [
       "                 customer_unique_id  nombre_achat_par_client  achat_moy  note  \\\n",
       "0  0000366f3b9a7992bf8c76cfdf3221e2                        1     129.90   5.0   \n",
       "1  0000b849f77a49e4a4ce2b2a4ca5be3f                        1      18.90   4.0   \n",
       "2  0000f46a3911fa3c0805444483337064                        1      69.00   3.0   \n",
       "3  0000f6ccb0745a6a4b88665a16c9f078                        1      25.99   4.0   \n",
       "4  0004aac84e0df4da2b147fca70cf8255                        1     180.00   5.0   \n",
       "\n",
       "  payment_type  payment_installments customer_city customer_state  \\\n",
       "0  credit_card                   8.0       cajamar             SP   \n",
       "1  credit_card                   1.0        osasco             SP   \n",
       "2  credit_card                   8.0      sao jose             SC   \n",
       "3  credit_card                   4.0         belem             PA   \n",
       "4  credit_card                   6.0      sorocaba             SP   \n",
       "\n",
       "    delai_commande  jour_achat  heure_de_achat  longeur_du_commentaire  \\\n",
       "0  6 days 09:52:10           3              10                   111.0   \n",
       "1  3 days 06:51:15           0              11                     8.0   \n",
       "2 25 days 17:33:44           4              21                     8.0   \n",
       "3 20 days 00:53:24           3              20                    12.0   \n",
       "4 13 days 03:23:14           1              19                     8.0   \n",
       "\n",
       "  product_category_name  \n",
       "0                maison  \n",
       "1     produit_de_beauté  \n",
       "2                 autre  \n",
       "3           technologie  \n",
       "4           technologie  "
      ]
     },
     "execution_count": 37,
     "metadata": {},
     "output_type": "execute_result"
    }
   ],
   "source": [
    "df_f.head(5)"
   ]
  },
  {
   "cell_type": "markdown",
   "metadata": {},
   "source": [
    "#### Exploration du dataset"
   ]
  },
  {
   "cell_type": "code",
   "execution_count": 38,
   "metadata": {},
   "outputs": [
    {
     "name": "stdout",
     "output_type": "stream",
     "text": [
      "le df est de :  (92081, 13)\n",
      "le nombre de valeur manquantes:  0\n"
     ]
    }
   ],
   "source": [
    "print(\"le df est de : \",df_f.shape)\n",
    "print(\"le nombre de valeur manquantes: \", sum(df_f.isnull().values.ravel()))"
   ]
  },
  {
   "cell_type": "code",
   "execution_count": 39,
   "metadata": {},
   "outputs": [
    {
     "data": {
      "image/png": "[encoded data removed]",
      "text/plain": [
       "<Figure size 432x288 with 1 Axes>"
      ]
     },
     "metadata": {
      "needs_background": "light"
     },
     "output_type": "display_data"
    },
    {
     "data": {
      "image/png": "[encoded data removed]",
      "text/plain": [
       "<Figure size 432x288 with 1 Axes>"
      ]
     },
     "metadata": {
      "needs_background": "light"
     },
     "output_type": "display_data"
    },
    {
     "data": {
      "image/png": "[encoded data removed]",
      "text/plain": [
       "<Figure size 432x288 with 1 Axes>"
      ]
     },
     "metadata": {
      "needs_background": "light"
     },
     "output_type": "display_data"
    },
    {
     "data": {
      "image/png": "[encoded data removed]",
      "text/plain": [
       "<Figure size 432x288 with 1 Axes>"
      ]
     },
     "metadata": {
      "needs_background": "light"
     },
     "output_type": "display_data"
    },
    {
     "data": {
      "image/png": "[encoded data removed]",
      "text/plain": [
       "<Figure size 432x288 with 1 Axes>"
      ]
     },
     "metadata": {
      "needs_background": "light"
     },
     "output_type": "display_data"
    },
    {
     "data": {
      "image/png": "[encoded data removed]",
      "text/plain": [
       "<Figure size 432x288 with 1 Axes>"
      ]
     },
     "metadata": {
      "needs_background": "light"
     },
     "output_type": "display_data"
    },
    {
     "data": {
      "image/png": "[encoded data removed]",
      "text/plain": [
       "<Figure size 432x288 with 1 Axes>"
      ]
     },
     "metadata": {
      "needs_background": "light"
     },
     "output_type": "display_data"
    }
   ],
   "source": [
    "for col in df_f.select_dtypes(include=['float64','int64']):\n",
    "    df_f.hist(column=col,bins=30)"
   ]
  },
  {
   "cell_type": "code",
   "execution_count": 40,
   "metadata": {},
   "outputs": [
    {
     "data": {
      "image/png": "[encoded data removed]",
      "text/plain": [
       "<Figure size 432x288 with 1 Axes>"
      ]
     },
     "metadata": {
      "needs_background": "light"
     },
     "output_type": "display_data"
    },
    {
     "data": {
      "image/png": "[encoded data removed]",
      "text/plain": [
       "<Figure size 432x288 with 1 Axes>"
      ]
     },
     "metadata": {
      "needs_background": "light"
     },
     "output_type": "display_data"
    },
    {
     "data": {
      "image/png": "[encoded data removed]",
      "text/plain": [
       "<Figure size 432x288 with 1 Axes>"
      ]
     },
     "metadata": {
      "needs_background": "light"
     },
     "output_type": "display_data"
    },
    {
     "data": {
      "image/png": "[encoded data removed]",
      "text/plain": [
       "<Figure size 432x288 with 1 Axes>"
      ]
     },
     "metadata": {
      "needs_background": "light"
     },
     "output_type": "display_data"
    },
    {
     "data": {
      "image/png": "[encoded data removed]",
      "text/plain": [
       "<Figure size 432x288 with 1 Axes>"
      ]
     },
     "metadata": {
      "needs_background": "light"
     },
     "output_type": "display_data"
    },
    {
     "data": {
      "image/png": "[encoded data removed]",
      "text/plain": [
       "<Figure size 432x288 with 1 Axes>"
      ]
     },
     "metadata": {
      "needs_background": "light"
     },
     "output_type": "display_data"
    },
    {
     "data": {
      "image/png": "[encoded data removed]",
      "text/plain": [
       "<Figure size 432x288 with 1 Axes>"
      ]
     },
     "metadata": {
      "needs_background": "light"
     },
     "output_type": "display_data"
    }
   ],
   "source": [
    "for col in df_f.select_dtypes(include=['float64','int64']):\n",
    "    plt.figure()\n",
    "    df_f.boxplot(col)"
   ]
  },
  {
   "cell_type": "code",
   "execution_count": 41,
   "metadata": {},
   "outputs": [],
   "source": [
    "df_f = df_f.set_index('customer_unique_id')"
   ]
  },
  {
   "cell_type": "markdown",
   "metadata": {},
   "source": [
    "#### Visualisation des features"
   ]
  },
  {
   "cell_type": "code",
   "execution_count": 42,
   "metadata": {},
   "outputs": [
    {
     "data": {
      "text/plain": [
       "<matplotlib.axes._subplots.AxesSubplot at 0x219d37a1eb0>"
      ]
     },
     "execution_count": 42,
     "metadata": {},
     "output_type": "execute_result"
    },
    {
     "data": {
      "image/png": "[encoded data removed]",
      "text/plain": [
       "<Figure size 720x432 with 1 Axes>"
      ]
     },
     "metadata": {
      "needs_background": "light"
     },
     "output_type": "display_data"
    }
   ],
   "source": [
    "mode_de_paiment = df.groupby(['customer_state']).count().sort_values(\n",
    "    by='customer_city', ascending=False)['customer_city'].head(15)\n",
    "plt.figure(figsize=(10,6))\n",
    "plt.title(' les 15 etats avec le plus de client')\n",
    "sns.barplot(x = mode_de_paiment.values,\n",
    "           y = mode_de_paiment.index)"
   ]
  },
  {
   "cell_type": "code",
   "execution_count": 44,
   "metadata": {},
   "outputs": [
    {
     "data": {
      "text/plain": [
       "<matplotlib.axes._subplots.AxesSubplot at 0x219ce604520>"
      ]
     },
     "execution_count": 44,
     "metadata": {},
     "output_type": "execute_result"
    },
    {
     "data": {
      "image/png": "[encoded data removed]",
      "text/plain": [
       "<Figure size 720x432 with 1 Axes>"
      ]
     },
     "metadata": {
      "needs_background": "light"
     },
     "output_type": "display_data"
    }
   ],
   "source": [
    "mode_de_paiment = df.groupby(['payment_type']).count().sort_values(\n",
    "    by='customer_city', ascending=False)['customer_city'].head()\n",
    "plt.figure(figsize=(10,6))\n",
    "plt.title(' Mode de paiment')\n",
    "sns.barplot(x = mode_de_paiment.values,\n",
    "           y = mode_de_paiment.index)"
   ]
  },
  {
   "cell_type": "code",
   "execution_count": 46,
   "metadata": {},
   "outputs": [
    {
     "data": {
      "text/plain": [
       "<matplotlib.axes._subplots.AxesSubplot at 0x219c3958640>"
      ]
     },
     "execution_count": 46,
     "metadata": {},
     "output_type": "execute_result"
    },
    {
     "data": {
      "image/png": "[encoded data removed]",
      "text/plain": [
       "<Figure size 720x432 with 1 Axes>"
      ]
     },
     "metadata": {
      "needs_background": "light"
     },
     "output_type": "display_data"
    }
   ],
   "source": [
    "produit_acheté = df_f.groupby(['product_category_name']).count().sort_values(\n",
    "    by='customer_city', ascending=False)['customer_city'].head(20)\n",
    "plt.figure(figsize=(10,6))\n",
    "plt.title(' Catégorie des produits acheter')\n",
    "sns.barplot(x = produit_acheté.values,\n",
    "           y = produit_acheté.index)"
   ]
  },
  {
   "cell_type": "code",
   "execution_count": 47,
   "metadata": {},
   "outputs": [
    {
     "data": {
      "text/plain": [
       "<matplotlib.axes._subplots.AxesSubplot at 0x219bec65b80>"
      ]
     },
     "execution_count": 47,
     "metadata": {},
     "output_type": "execute_result"
    },
    {
     "data": {
      "image/png": "[encoded data removed]",
      "text/plain": [
       "<Figure size 720x432 with 1 Axes>"
      ]
     },
     "metadata": {
      "needs_background": "light"
     },
     "output_type": "display_data"
    }
   ],
   "source": [
    "ville = df_f.groupby(['customer_city']).count()[\n",
    "    'customer_state'].sort_values(ascending=False).head(15)\n",
    "plt.figure(figsize=(10,6))\n",
    "plt.title('Les 15 villes avec le plus de clients')\n",
    "sns.barplot(x = ville.values,\n",
    "           y = ville.index)"
   ]
  },
  {
   "cell_type": "code",
   "execution_count": 48,
   "metadata": {},
   "outputs": [
    {
     "data": {
      "text/plain": [
       "<matplotlib.axes._subplots.AxesSubplot at 0x219c3a54dc0>"
      ]
     },
     "execution_count": 48,
     "metadata": {},
     "output_type": "execute_result"
    },
    {
     "data": {
      "image/png": "[encoded data removed]",
      "text/plain": [
       "<Figure size 720x432 with 1 Axes>"
      ]
     },
     "metadata": {
      "needs_background": "light"
     },
     "output_type": "display_data"
    }
   ],
   "source": [
    "les_horaire = df_f.groupby(['jour_achat']).count()[\n",
    "    'customer_state'].sort_values(ascending=False).head(15)\n",
    "plt.figure(figsize=(10,6))\n",
    "plt.title('les jour achat')\n",
    "sns.barplot(x = les_horaire.index,\n",
    "           y = les_horaire.values)      "
   ]
  },
  {
   "cell_type": "code",
   "execution_count": 49,
   "metadata": {},
   "outputs": [
    {
     "data": {
      "text/plain": [
       "<matplotlib.axes._subplots.AxesSubplot at 0x219d3704be0>"
      ]
     },
     "execution_count": 49,
     "metadata": {},
     "output_type": "execute_result"
    },
    {
     "data": {
      "image/png": "[encoded data removed]",
      "text/plain": [
       "<Figure size 720x432 with 1 Axes>"
      ]
     },
     "metadata": {
      "needs_background": "light"
     },
     "output_type": "display_data"
    }
   ],
   "source": [
    "les_horaire = df_f.groupby(['heure_de_achat']).count()[\n",
    "    'customer_state'].sort_values(ascending=False).head(24)\n",
    "plt.figure(figsize=(10,6))\n",
    "plt.title('les heure achat')\n",
    "sns.barplot(x = les_horaire.index,\n",
    "           y = les_horaire.values)  "
   ]
  },
  {
   "cell_type": "code",
   "execution_count": 50,
   "metadata": {},
   "outputs": [
    {
     "data": {
      "text/plain": [
       "<matplotlib.axes._subplots.AxesSubplot at 0x219d37aef70>"
      ]
     },
     "execution_count": 50,
     "metadata": {},
     "output_type": "execute_result"
    },
    {
     "data": {
      "image/png": "[encoded data removed]",
      "text/plain": [
       "<Figure size 720x432 with 1 Axes>"
      ]
     },
     "metadata": {
      "needs_background": "light"
     },
     "output_type": "display_data"
    }
   ],
   "source": [
    "le_nb_achat = df_f.groupby(['nombre_achat_par_client']).count()[\n",
    "    'customer_state'].sort_values(ascending=False).head(24)\n",
    "plt.figure(figsize=(10,6))\n",
    "plt.title('le_nb_achat')\n",
    "sns.barplot(x = le_nb_achat.index,\n",
    "           y = le_nb_achat.values) "
   ]
  },
  {
   "cell_type": "markdown",
   "metadata": {},
   "source": [
    "très peu de gens commandent plusieurs fois sur le site"
   ]
  },
  {
   "cell_type": "code",
   "execution_count": 51,
   "metadata": {},
   "outputs": [
    {
     "data": {
      "text/plain": [
       "<matplotlib.axes._subplots.AxesSubplot at 0x219d3097d60>"
      ]
     },
     "execution_count": 51,
     "metadata": {},
     "output_type": "execute_result"
    },
    {
     "data": {
      "image/png": "[encoded data removed]",
      "text/plain": [
       "<Figure size 432x288 with 1 Axes>"
      ]
     },
     "metadata": {
      "needs_background": "light"
     },
     "output_type": "display_data"
    }
   ],
   "source": [
    "sns.distplot(df_f['achat_moy'])"
   ]
  },
  {
   "cell_type": "markdown",
   "metadata": {},
   "source": [
    "#### Enregistrement du df"
   ]
  },
  {
   "cell_type": "code",
   "execution_count": 53,
   "metadata": {},
   "outputs": [],
   "source": [
    "df_f.to_csv('C:/Users/Elisée/Desktop/Projet (5)/archive/new_df.csv')"
   ]
  },
  {
   "cell_type": "code",
   "execution_count": null,
   "metadata": {},
   "outputs": [],
   "source": []
  }
 ],
 "metadata": {
  "kernelspec": {
   "display_name": "Python 3",
   "language": "python",
   "name": "python3"
  },
  "language_info": {
   "codemirror_mode": {
    "name": "ipython",
    "version": 3
   },
   "file_extension": ".py",
   "mimetype": "text/x-python",
   "name": "python",
   "nbconvert_exporter": "python",
   "pygments_lexer": "ipython3",
   "version": "3.8.3"
  }
 },
 "nbformat": 4,
 "nbformat_minor": 4
}
